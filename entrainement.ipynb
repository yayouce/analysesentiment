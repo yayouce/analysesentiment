{
 "cells": [
  {
   "cell_type": "code",
   "execution_count": null,
   "id": "59345d66",
   "metadata": {},
   "outputs": [],
   "source": []
  },
  {
   "cell_type": "markdown",
   "id": "5dbe77fe",
   "metadata": {},
   "source": [
    "K nearest neighbors\n",
    "\n",
    "algorithme de classification binaire (oui ou non) representé numeriquement par 1 ou 0\n"
   ]
  }
 ],
 "metadata": {
  "language_info": {
   "name": "python"
  }
 },
 "nbformat": 4,
 "nbformat_minor": 5
}
